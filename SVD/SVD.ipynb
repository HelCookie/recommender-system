{
 "cells": [
  {
   "cell_type": "code",
   "execution_count": 6,
   "metadata": {},
   "outputs": [],
   "source": [
    "import numpy as np"
   ]
  },
  {
   "cell_type": "markdown",
   "metadata": {},
   "source": [
    "将评分矩阵 ${A}^{T}$ 映射到低维空间 $A^{T}U_{m*k}\\sum_{k*k}^{-1}$"
   ]
  },
  {
   "cell_type": "code",
   "execution_count": 13,
   "metadata": {},
   "outputs": [],
   "source": [
    "def loadExData():\n",
    "    return [[0,0,1,0,0,2,0,0,0,0,5],\n",
    "           [0,0,0,5,0,3,0,0,0,0,3],\n",
    "           [0,0,0,0,4,1,0,1,0,4,0],\n",
    "           [3,3,4,0,0,0,0,2,2,0,0],\n",
    "           [5,4,2,0,0,0,0,5,5,0,0],\n",
    "           [0,0,0,0,5,0,1,0,0,0,0],\n",
    "           [4,1,4,0,0,0,0,4,5,0,1],\n",
    "           [0,0,0,4,0,4,0,0,0,0,4],\n",
    "           [0,0,0,2,0,2,5,0,0,1,2],\n",
    "           [1,0,0,4,0,0,0,1,2,0,0]]\n",
    "\n",
    "def CosSimilarCompute(U_k, W_t):\n",
    "    if( len(U_k) != len(W_t) ):\n",
    "        assert(\"user vector size not equals item vector \")\n",
    "    if(len(U_k)==0):\n",
    "        assert(\"user vector size  equal to 0\")\n",
    "    i = 0\n",
    "    Score1 = 0\n",
    "    Score2 = 0\n",
    "    Score3 = 0\n",
    "    while( i < len(U_k) ):\n",
    "        Score1 = Score1 + U_k[i]*W_t[i]\n",
    "        Score2 = Score2 + U_k[i]*U_k[i]\n",
    "        Score3 = Score3 + W_t[i]*W_t[i]\n",
    "        i = i+1\n",
    "    if(Score3==0 or Score2==0):\n",
    "        assert(\"user or item vector equal to 0\")\n",
    "    return Score1*1.0/(math.sqrt(Score2)*math.sqrt(Score3))\n",
    "\n",
    "\n",
    "\n",
    "def cosSim(U_k, W_t):\n",
    "    num = float(U_k.T*W_t)\n",
    "    denom = np.linalg.norm(U_k)*np.linalg.norm(W_t)\n",
    "    return 0.5+0.5*(num/denom)\n",
    "\n",
    "# simMeas相似度计算函数\n",
    "def svdEst(userData,xformedItems, user, simMeas, item) :\n",
    "    n = np.shape(xformedItems)[0]\n",
    "    simTotal = 0.0; ratSimTotal = 0.0\n",
    "    # 对于给定的用户，for循环所有物品，计算与item的相似度\n",
    "    for j in range(n) :\n",
    "        userRating = userData[:,j]\n",
    "        if userRating == 0 or j == item : continue\n",
    "        similarity = simMeas(xformedItems[item, :].T, xformedItems[j, :].T)\n",
    "        # print便于了解相似度计算的进展情况\n",
    "        print ('the %d and %d similarity is : %f' % (item, j, similarity))\n",
    "        # 对相似度求和\n",
    "        simTotal += similarity\n",
    "        # 对相似度及评分值的乘积求和\n",
    "        ratSimTotal += similarity * userRating\n",
    "    if simTotal == 0 : return 0\n",
    "    else : return ratSimTotal/simTotal\n",
    "    \n",
    "    \n",
    "def recommend(dataMat, user, N=3, simMeas=cosSim, estMethod=svdEst):\n",
    "    U,Sigma,VT = np.linalg.svd(dataMat)\n",
    "    # 使用奇异值构建一个对角矩阵\n",
    "    Sig4 = np.mat(np.eye(4)*Sigma[:4])\n",
    "    # 利用U矩阵将物品转换到低维空间中\n",
    "    xformedItems = dataMat.T * U[:, :4] * Sig4.I\n",
    "    print('xformedItems=',xformedItems)\n",
    "    print('xformedItems行和列数', np.shape(xformedItems))\n",
    "    \n",
    "    unratedItems = np.nonzero(dataMat[user, :].A == 0)[1]\n",
    "    print('dataMat[user, :].A=',dataMat[user, :].A)\n",
    "    print('np.nonzero(dataMat[user, :].A == 0)结果为', np.nonzero(dataMat[user, :].A == 0))\n",
    "    # 如果不存在未评分物品，退出函数，否则在所有未评分物品上进行循环\n",
    "    if len(unratedItems) == 0: return ('you rated everything')\n",
    "    itemScores = []\n",
    "    for item in unratedItems:\n",
    "        print('item=',item)\n",
    "   # 对于每个未评分物品，通过调用standEst()来产生该物品基于相似度的预测评分。\n",
    "        estimatedScore = estMethod(dataMat[user, :],xformedItems, user, simMeas, item)\n",
    "        # 该物品的编号和估计得分值会放在一个元素列表itemScores\n",
    "        itemScores.append((item, estimatedScore))\n",
    "    # 寻找前N个未评级物品\n",
    "    return sorted(itemScores, key=lambda jj: jj[1], reverse=True)[:N]"
   ]
  },
  {
   "cell_type": "code",
   "execution_count": 14,
   "metadata": {},
   "outputs": [
    {
     "name": "stdout",
     "output_type": "stream",
     "text": [
      "xformedItems= [[-4.94993155e-01 -8.55622175e-02 -2.48611806e-02  3.33301232e-02]\n",
      " [-3.13458547e-01 -7.52514984e-02 -7.48135856e-03 -3.50541410e-02]\n",
      " [-3.78450772e-01 -4.30110266e-02 -2.73248525e-02 -3.16127753e-01]\n",
      " [-9.66651163e-02  5.96631453e-01 -1.11181970e-01  7.08108827e-01]\n",
      " [-1.48606103e-02  4.20778007e-02  8.58513789e-01  4.28827005e-02]\n",
      " [-5.34500615e-02  4.98695994e-01  4.12721285e-02 -1.51444295e-01]\n",
      " [-1.53015570e-02  1.73637176e-01  1.96700179e-01 -5.96048540e-02]\n",
      " [-4.69111042e-01 -7.14523528e-02  8.17335025e-02  6.74284466e-02]\n",
      " [-5.18848182e-01 -6.64352384e-02 -3.46135811e-02  1.62309665e-01]\n",
      " [-1.56328052e-02  6.08803417e-02  4.39273573e-01  4.45686018e-04]\n",
      " [-1.06449559e-01  5.79097298e-01 -8.90946777e-02 -5.80592096e-01]]\n",
      "xformedItems行和列数 (11, 4)\n",
      "dataMat[user, :].A= [[0 0 0 5 0 3 0 0 0 0 3]]\n",
      "np.nonzero(dataMat[user, :].A == 0)结果为 (array([0, 0, 0, 0, 0, 0, 0, 0]), array([0, 1, 2, 4, 6, 7, 8, 9]))\n",
      "item= 0\n",
      "the 0 and 3 similarity is : 0.524508\n",
      "the 0 and 5 similarity is : 0.457935\n",
      "the 0 and 10 similarity is : 0.483310\n",
      "item= 1\n",
      "the 1 and 3 similarity is : 0.436557\n",
      "the 1 and 5 similarity is : 0.453733\n",
      "the 1 and 10 similarity is : 0.520033\n",
      "item= 2\n",
      "the 2 and 3 similarity is : 0.274214\n",
      "the 2 and 5 similarity is : 0.587373\n",
      "the 2 and 10 similarity is : 0.744182\n",
      "item= 4\n",
      "the 4 and 3 similarity is : 0.476120\n",
      "the 4 and 5 similarity is : 0.556058\n",
      "the 4 and 10 similarity is : 0.447311\n",
      "item= 6\n",
      "the 6 and 3 similarity is : 0.581131\n",
      "the 6 and 5 similarity is : 0.869111\n",
      "the 6 and 10 similarity is : 0.766049\n",
      "item= 7\n",
      "the 7 and 3 similarity is : 0.545381\n",
      "the 7 and 5 similarity is : 0.465957\n",
      "the 7 and 10 similarity is : 0.453173\n",
      "item= 8\n",
      "the 8 and 3 similarity is : 0.625646\n",
      "the 8 and 5 similarity is : 0.445549\n",
      "the 8 and 10 similarity is : 0.418503\n",
      "item= 9\n",
      "the 9 and 3 similarity is : 0.487154\n",
      "the 9 and 5 similarity is : 0.605611\n",
      "the 9 and 10 similarity is : 0.496646\n"
     ]
    }
   ],
   "source": [
    "myMat=np.mat(loadExData())\n",
    "result=recommend(myMat, 1, estMethod=svdEst) # 为user1推荐"
   ]
  },
  {
   "cell_type": "code",
   "execution_count": 15,
   "metadata": {},
   "outputs": [
    {
     "name": "stdout",
     "output_type": "stream",
     "text": [
      "[(8, matrix([[3.83996333]])), (7, matrix([[3.74479602]])), (0, matrix([[3.71568381]]))]\n"
     ]
    }
   ],
   "source": [
    "print(result)"
   ]
  },
  {
   "cell_type": "code",
   "execution_count": 16,
   "metadata": {},
   "outputs": [],
   "source": [
    "U, Sigma, VT = np.linalg.svd(myMat)\n",
    "new_data = U[:,:4] * np.mat(np.eye(4) * Sigma[:4]) * VT[:4,:] # k = 4"
   ]
  },
  {
   "cell_type": "code",
   "execution_count": 19,
   "metadata": {
    "scrolled": true
   },
   "outputs": [
    {
     "name": "stdout",
     "output_type": "stream",
     "text": [
      "[[ 0.06661544  0.15564622  1.34358251 -0.05523537 -0.30895421  2.49158087\n",
      "   0.81721484 -0.06709356 -0.28593042  0.07729121  4.41737223]\n",
      " [ 0.00698734 -0.20783121 -0.30882512  4.83183689 -0.26688288  2.91916408\n",
      "   0.8764552   0.04106978  0.3290891   0.08690082  2.98423589]\n",
      " [ 0.11810721  0.09600584  0.03439717  0.03531754  4.6109894   0.65869723\n",
      "   1.19552989  0.68277012  0.10922341  2.39556682  0.02920874]\n",
      " [ 2.98329992  1.95337449  2.53776841 -0.54449361 -0.08221392 -0.02968081\n",
      "  -0.04477322  2.7775048   3.00320418 -0.01376337  0.57133206]\n",
      " [ 4.81169574  3.04847219  3.45944129  0.39505758  0.12298993 -0.32749523\n",
      "  -0.14407572  4.56787778  5.0775274   0.06774477 -0.18534872]\n",
      " [-0.0949532  -0.03982373 -0.15421435 -0.15172068  3.87822861  0.35813849\n",
      "   0.941865    0.39195713 -0.10928442  1.9968667  -0.25792377]\n",
      " [ 4.18555696  2.69990683  3.4146455  -0.01892709 -0.06041327  0.22929478\n",
      "   0.02905504  3.9208455   4.28917781  0.0259856   0.92850978]\n",
      " [-0.0524567  -0.17420892  0.14794935  4.09820178 -0.25305933  3.3832142\n",
      "   1.05927282 -0.05557452  0.09398953  0.14437292  4.10009864]\n",
      " [-0.10540254 -0.12834876  0.12408101  2.24341291  1.12264319  2.26364113\n",
      "   0.98996386  0.04527602 -0.0644682   0.75504334  2.64388752]\n",
      " [ 1.12282556  0.48012792 -0.2036592   3.83950834 -0.12899197  0.66100773\n",
      "   0.11651222  1.15295384  1.64455367 -0.03434985 -0.38232734]]\n"
     ]
    }
   ],
   "source": [
    "print(new_data)"
   ]
  },
  {
   "cell_type": "code",
   "execution_count": 20,
   "metadata": {},
   "outputs": [
    {
     "data": {
      "text/plain": [
       "array([14.2701248 , 11.19808631,  7.13480024,  5.13612006,  4.68588496,\n",
       "        3.09682859,  2.72917436,  2.55571761,  1.05782196,  0.185364  ])"
      ]
     },
     "execution_count": 20,
     "metadata": {},
     "output_type": "execute_result"
    }
   ],
   "source": [
    "Sigma"
   ]
  },
  {
   "cell_type": "code",
   "execution_count": 21,
   "metadata": {},
   "outputs": [
    {
     "data": {
      "text/plain": [
       "matrix([[0.07007647, 0.        , 0.        , 0.        ],\n",
       "        [0.        , 0.08930097, 0.        , 0.        ],\n",
       "        [0.        , 0.        , 0.14015809, 0.        ],\n",
       "        [0.        , 0.        , 0.        , 0.1946995 ]])"
      ]
     },
     "execution_count": 21,
     "metadata": {},
     "output_type": "execute_result"
    }
   ],
   "source": [
    "Sig4 = np.mat(np.eye(4)*Sigma[:4])\n",
    "Sig4.I"
   ]
  },
  {
   "cell_type": "code",
   "execution_count": 23,
   "metadata": {},
   "outputs": [
    {
     "data": {
      "text/plain": [
       "matrix([[1., 0., 0., 0.],\n",
       "        [0., 1., 0., 0.],\n",
       "        [0., 0., 1., 0.],\n",
       "        [0., 0., 0., 1.]])"
      ]
     },
     "execution_count": 23,
     "metadata": {},
     "output_type": "execute_result"
    }
   ],
   "source": []
  },
  {
   "cell_type": "code",
   "execution_count": 24,
   "metadata": {},
   "outputs": [
    {
     "data": {
      "text/plain": [
       "matrix([[0, 0, 1, 0, 0, 2, 0, 0, 0, 0, 5],\n",
       "        [0, 0, 0, 5, 0, 3, 0, 0, 0, 0, 3],\n",
       "        [0, 0, 0, 0, 4, 1, 0, 1, 0, 4, 0],\n",
       "        [3, 3, 4, 0, 0, 0, 0, 2, 2, 0, 0],\n",
       "        [5, 4, 2, 0, 0, 0, 0, 5, 5, 0, 0],\n",
       "        [0, 0, 0, 0, 5, 0, 1, 0, 0, 0, 0],\n",
       "        [4, 1, 4, 0, 0, 0, 0, 4, 5, 0, 1],\n",
       "        [0, 0, 0, 4, 0, 4, 0, 0, 0, 0, 4],\n",
       "        [0, 0, 0, 2, 0, 2, 5, 0, 0, 1, 2],\n",
       "        [1, 0, 0, 4, 0, 0, 0, 1, 2, 0, 0]])"
      ]
     },
     "execution_count": 24,
     "metadata": {},
     "output_type": "execute_result"
    }
   ],
   "source": [
    "myMat"
   ]
  },
  {
   "cell_type": "code",
   "execution_count": 25,
   "metadata": {},
   "outputs": [
    {
     "data": {
      "text/plain": [
       "array([[0, 0, 1, 0, 0, 2, 0, 0, 0, 0, 5],\n",
       "       [0, 0, 0, 5, 0, 3, 0, 0, 0, 0, 3],\n",
       "       [0, 0, 0, 0, 4, 1, 0, 1, 0, 4, 0],\n",
       "       [3, 3, 4, 0, 0, 0, 0, 2, 2, 0, 0],\n",
       "       [5, 4, 2, 0, 0, 0, 0, 5, 5, 0, 0],\n",
       "       [0, 0, 0, 0, 5, 0, 1, 0, 0, 0, 0],\n",
       "       [4, 1, 4, 0, 0, 0, 0, 4, 5, 0, 1],\n",
       "       [0, 0, 0, 4, 0, 4, 0, 0, 0, 0, 4],\n",
       "       [0, 0, 0, 2, 0, 2, 5, 0, 0, 1, 2],\n",
       "       [1, 0, 0, 4, 0, 0, 0, 1, 2, 0, 0]])"
      ]
     },
     "execution_count": 25,
     "metadata": {},
     "output_type": "execute_result"
    }
   ],
   "source": [
    "myMat.A"
   ]
  },
  {
   "cell_type": "code",
   "execution_count": 29,
   "metadata": {},
   "outputs": [
    {
     "name": "stdout",
     "output_type": "stream",
     "text": [
      "xformedItems= [[-4.94993155e-01 -8.55622175e-02 -2.48611806e-02  3.33301232e-02]\n",
      " [-3.13458547e-01 -7.52514984e-02 -7.48135856e-03 -3.50541410e-02]\n",
      " [-3.78450772e-01 -4.30110266e-02 -2.73248525e-02 -3.16127753e-01]\n",
      " [-9.66651163e-02  5.96631453e-01 -1.11181970e-01  7.08108827e-01]\n",
      " [-1.48606103e-02  4.20778007e-02  8.58513789e-01  4.28827005e-02]\n",
      " [-5.34500615e-02  4.98695994e-01  4.12721285e-02 -1.51444295e-01]\n",
      " [-1.53015570e-02  1.73637176e-01  1.96700179e-01 -5.96048540e-02]\n",
      " [-4.69111042e-01 -7.14523528e-02  8.17335025e-02  6.74284466e-02]\n",
      " [-5.18848182e-01 -6.64352384e-02 -3.46135811e-02  1.62309665e-01]\n",
      " [-1.56328052e-02  6.08803417e-02  4.39273573e-01  4.45686018e-04]\n",
      " [-1.06449559e-01  5.79097298e-01 -8.90946777e-02 -5.80592096e-01]]\n",
      "xformedItems行和列数 (11, 4)\n",
      "dataMat[user, :].A= [[0 0 0 5 0 3 0 0 0 0 3]]\n",
      "np.nonzero(dataMat[user, :].A == 0)结果为 (array([0, 0, 0, 0, 0, 0, 0, 0]), array([0, 1, 2, 4, 6, 7, 8, 9]))\n"
     ]
    }
   ],
   "source": [
    "dataMat = myMat\n",
    "user  = 1\n",
    "\n",
    "U,Sigma,VT = np.linalg.svd(dataMat)\n",
    "# 使用奇异值构建一个对角矩阵\n",
    "Sig4 = np.mat(np.eye(4)*Sigma[:4])\n",
    "# 利用U矩阵将物品转换到低维空间中\n",
    "xformedItems = dataMat.T * U[:, :4] * Sig4.I\n",
    "print('xformedItems=',xformedItems)\n",
    "print('xformedItems行和列数', np.shape(xformedItems))\n",
    "\n",
    "unratedItems = np.nonzero(dataMat[user, :].A == 0)[1]\n",
    "print('dataMat[user, :].A=',dataMat[user, :].A)\n",
    "print('np.nonzero(dataMat[user, :].A == 0)结果为', np.nonzero(dataMat[user, :].A == 0))"
   ]
  },
  {
   "cell_type": "code",
   "execution_count": 30,
   "metadata": {},
   "outputs": [
    {
     "data": {
      "text/plain": [
       "array([0, 1, 2, 4, 6, 7, 8, 9])"
      ]
     },
     "execution_count": 30,
     "metadata": {},
     "output_type": "execute_result"
    }
   ],
   "source": [
    "unratedItems"
   ]
  },
  {
   "cell_type": "code",
   "execution_count": 34,
   "metadata": {},
   "outputs": [
    {
     "data": {
      "text/plain": [
       "matrix([[ True,  True,  True, False,  True, False,  True,  True,  True,\n",
       "          True, False]])"
      ]
     },
     "execution_count": 34,
     "metadata": {},
     "output_type": "execute_result"
    }
   ],
   "source": [
    "dataMat[user, :] == 0"
   ]
  },
  {
   "cell_type": "code",
   "execution_count": 38,
   "metadata": {},
   "outputs": [
    {
     "data": {
      "text/plain": [
       "array([0, 1, 2, 4, 6, 7, 8, 9])"
      ]
     },
     "execution_count": 38,
     "metadata": {},
     "output_type": "execute_result"
    }
   ],
   "source": [
    "np.nonzero((dataMat[user, :].A == 0))[1]"
   ]
  },
  {
   "cell_type": "code",
   "execution_count": 39,
   "metadata": {},
   "outputs": [
    {
     "data": {
      "text/plain": [
       "(array([0, 0, 0, 0, 0, 0, 0, 0]), array([0, 1, 2, 4, 6, 7, 8, 9]))"
      ]
     },
     "execution_count": 39,
     "metadata": {},
     "output_type": "execute_result"
    }
   ],
   "source": [
    "np.nonzero((dataMat[user, :].A == 0))"
   ]
  },
  {
   "cell_type": "code",
   "execution_count": 40,
   "metadata": {},
   "outputs": [
    {
     "data": {
      "text/plain": [
       "array([[ True,  True,  True, False,  True, False,  True,  True,  True,\n",
       "         True, False]])"
      ]
     },
     "execution_count": 40,
     "metadata": {},
     "output_type": "execute_result"
    }
   ],
   "source": []
  },
  {
   "cell_type": "code",
   "execution_count": null,
   "metadata": {},
   "outputs": [],
   "source": []
  }
 ],
 "metadata": {
  "kernelspec": {
   "display_name": "Python 3",
   "language": "python",
   "name": "python3"
  },
  "language_info": {
   "codemirror_mode": {
    "name": "ipython",
    "version": 3
   },
   "file_extension": ".py",
   "mimetype": "text/x-python",
   "name": "python",
   "nbconvert_exporter": "python",
   "pygments_lexer": "ipython3",
   "version": "3.6.4"
  }
 },
 "nbformat": 4,
 "nbformat_minor": 2
}
